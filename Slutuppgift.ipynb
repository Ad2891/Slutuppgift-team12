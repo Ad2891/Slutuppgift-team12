{
  "nbformat": 4,
  "nbformat_minor": 0,
  "metadata": {
    "colab": {
      "name": "Slutuppgift.ipynb",
      "provenance": [],
      "authorship_tag": "ABX9TyP454y0BQSeAksRWsJ3lwX7",
      "include_colab_link": true
    },
    "kernelspec": {
      "name": "python3",
      "display_name": "Python 3"
    },
    "language_info": {
      "name": "python"
    }
  },
  "cells": [
    {
      "cell_type": "markdown",
      "metadata": {
        "id": "view-in-github",
        "colab_type": "text"
      },
      "source": [
        "<a href=\"https://colab.research.google.com/github/Ad2891/Slutuppgift-team12/blob/main/Slutuppgift.ipynb\" target=\"_parent\"><img src=\"https://colab.research.google.com/assets/colab-badge.svg\" alt=\"Open In Colab\"/></a>"
      ]
    },
    {
      "cell_type": "markdown",
      "source": [
        "# Slutuppgift 1 - Identifying Employee Attrition "
      ],
      "metadata": {
        "id": "xTDbD8nrD9X9"
      }
    },
    {
      "cell_type": "markdown",
      "source": [
        "## The Problem Question\n",
        "\n",
        "During this task, it is our goal to identify features of interest that can be used to predict the reasons for employee attrition. So the question used for this problem is:\n",
        "\n",
        ">**How can prior indicators from features be used to predict if an employee is at risk of leaving the company?**\n",
        "\n"
      ],
      "metadata": {
        "id": "UT_wf13IEWKl"
      }
    },
    {
      "cell_type": "code",
      "execution_count": 4,
      "metadata": {
        "id": "9G1q9kwi51Uz"
      },
      "outputs": [],
      "source": [
        "import numpy as np\n",
        "import pandas as pd\n",
        "import seaborn as sb\n",
        "import matplotlib.pyplot as plt\n",
        "import sklearn\n",
        "\n",
        "from pandas import Series, DataFrame\n",
        "from pylab import rcParams\n",
        "from sklearn import preprocessing\n",
        "from sklearn.linear_model import LogisticRegression\n",
        "from sklearn.model_selection import train_test_split\n",
        "from sklearn import metrics \n",
        "from sklearn.metrics import classification_report"
      ]
    },
    {
      "cell_type": "markdown",
      "source": [
        "First we retrieve the data."
      ],
      "metadata": {
        "id": "lzPRwqRsH4zE"
      }
    },
    {
      "cell_type": "code",
      "source": [
        "#Import .csv file and save in variable employee_data \n",
        "employee_data = pd.read_csv(\"/content/WA_Fn-UseC_-HR-Employee-Attrition.csv\", sep=\",\")\n",
        "employee_data.head()"
      ],
      "metadata": {
        "colab": {
          "base_uri": "https://localhost:8080/",
          "height": 369
        },
        "id": "nvxCs-8J6DYT",
        "outputId": "b4a20964-9899-4afe-b71a-11fd30b5154c"
      },
      "execution_count": 5,
      "outputs": [
        {
          "output_type": "execute_result",
          "data": {
            "text/html": [
              "\n",
              "  <div id=\"df-8b4e66c4-0ac0-48ab-a57a-9f5dc9c4dcb9\">\n",
              "    <div class=\"colab-df-container\">\n",
              "      <div>\n",
              "<style scoped>\n",
              "    .dataframe tbody tr th:only-of-type {\n",
              "        vertical-align: middle;\n",
              "    }\n",
              "\n",
              "    .dataframe tbody tr th {\n",
              "        vertical-align: top;\n",
              "    }\n",
              "\n",
              "    .dataframe thead th {\n",
              "        text-align: right;\n",
              "    }\n",
              "</style>\n",
              "<table border=\"1\" class=\"dataframe\">\n",
              "  <thead>\n",
              "    <tr style=\"text-align: right;\">\n",
              "      <th></th>\n",
              "      <th>Age</th>\n",
              "      <th>Attrition</th>\n",
              "      <th>BusinessTravel</th>\n",
              "      <th>DailyRate</th>\n",
              "      <th>Department</th>\n",
              "      <th>DistanceFromHome</th>\n",
              "      <th>Education</th>\n",
              "      <th>EducationField</th>\n",
              "      <th>EmployeeCount</th>\n",
              "      <th>EmployeeNumber</th>\n",
              "      <th>...</th>\n",
              "      <th>RelationshipSatisfaction</th>\n",
              "      <th>StandardHours</th>\n",
              "      <th>StockOptionLevel</th>\n",
              "      <th>TotalWorkingYears</th>\n",
              "      <th>TrainingTimesLastYear</th>\n",
              "      <th>WorkLifeBalance</th>\n",
              "      <th>YearsAtCompany</th>\n",
              "      <th>YearsInCurrentRole</th>\n",
              "      <th>YearsSinceLastPromotion</th>\n",
              "      <th>YearsWithCurrManager</th>\n",
              "    </tr>\n",
              "  </thead>\n",
              "  <tbody>\n",
              "    <tr>\n",
              "      <th>0</th>\n",
              "      <td>41</td>\n",
              "      <td>Yes</td>\n",
              "      <td>Travel_Rarely</td>\n",
              "      <td>1102</td>\n",
              "      <td>Sales</td>\n",
              "      <td>1</td>\n",
              "      <td>2</td>\n",
              "      <td>Life Sciences</td>\n",
              "      <td>1</td>\n",
              "      <td>1</td>\n",
              "      <td>...</td>\n",
              "      <td>1</td>\n",
              "      <td>80</td>\n",
              "      <td>0</td>\n",
              "      <td>8</td>\n",
              "      <td>0</td>\n",
              "      <td>1</td>\n",
              "      <td>6</td>\n",
              "      <td>4</td>\n",
              "      <td>0</td>\n",
              "      <td>5</td>\n",
              "    </tr>\n",
              "    <tr>\n",
              "      <th>1</th>\n",
              "      <td>49</td>\n",
              "      <td>No</td>\n",
              "      <td>Travel_Frequently</td>\n",
              "      <td>279</td>\n",
              "      <td>Research &amp; Development</td>\n",
              "      <td>8</td>\n",
              "      <td>1</td>\n",
              "      <td>Life Sciences</td>\n",
              "      <td>1</td>\n",
              "      <td>2</td>\n",
              "      <td>...</td>\n",
              "      <td>4</td>\n",
              "      <td>80</td>\n",
              "      <td>1</td>\n",
              "      <td>10</td>\n",
              "      <td>3</td>\n",
              "      <td>3</td>\n",
              "      <td>10</td>\n",
              "      <td>7</td>\n",
              "      <td>1</td>\n",
              "      <td>7</td>\n",
              "    </tr>\n",
              "    <tr>\n",
              "      <th>2</th>\n",
              "      <td>37</td>\n",
              "      <td>Yes</td>\n",
              "      <td>Travel_Rarely</td>\n",
              "      <td>1373</td>\n",
              "      <td>Research &amp; Development</td>\n",
              "      <td>2</td>\n",
              "      <td>2</td>\n",
              "      <td>Other</td>\n",
              "      <td>1</td>\n",
              "      <td>4</td>\n",
              "      <td>...</td>\n",
              "      <td>2</td>\n",
              "      <td>80</td>\n",
              "      <td>0</td>\n",
              "      <td>7</td>\n",
              "      <td>3</td>\n",
              "      <td>3</td>\n",
              "      <td>0</td>\n",
              "      <td>0</td>\n",
              "      <td>0</td>\n",
              "      <td>0</td>\n",
              "    </tr>\n",
              "    <tr>\n",
              "      <th>3</th>\n",
              "      <td>33</td>\n",
              "      <td>No</td>\n",
              "      <td>Travel_Frequently</td>\n",
              "      <td>1392</td>\n",
              "      <td>Research &amp; Development</td>\n",
              "      <td>3</td>\n",
              "      <td>4</td>\n",
              "      <td>Life Sciences</td>\n",
              "      <td>1</td>\n",
              "      <td>5</td>\n",
              "      <td>...</td>\n",
              "      <td>3</td>\n",
              "      <td>80</td>\n",
              "      <td>0</td>\n",
              "      <td>8</td>\n",
              "      <td>3</td>\n",
              "      <td>3</td>\n",
              "      <td>8</td>\n",
              "      <td>7</td>\n",
              "      <td>3</td>\n",
              "      <td>0</td>\n",
              "    </tr>\n",
              "    <tr>\n",
              "      <th>4</th>\n",
              "      <td>27</td>\n",
              "      <td>No</td>\n",
              "      <td>Travel_Rarely</td>\n",
              "      <td>591</td>\n",
              "      <td>Research &amp; Development</td>\n",
              "      <td>2</td>\n",
              "      <td>1</td>\n",
              "      <td>Medical</td>\n",
              "      <td>1</td>\n",
              "      <td>7</td>\n",
              "      <td>...</td>\n",
              "      <td>4</td>\n",
              "      <td>80</td>\n",
              "      <td>1</td>\n",
              "      <td>6</td>\n",
              "      <td>3</td>\n",
              "      <td>3</td>\n",
              "      <td>2</td>\n",
              "      <td>2</td>\n",
              "      <td>2</td>\n",
              "      <td>2</td>\n",
              "    </tr>\n",
              "  </tbody>\n",
              "</table>\n",
              "<p>5 rows × 35 columns</p>\n",
              "</div>\n",
              "      <button class=\"colab-df-convert\" onclick=\"convertToInteractive('df-8b4e66c4-0ac0-48ab-a57a-9f5dc9c4dcb9')\"\n",
              "              title=\"Convert this dataframe to an interactive table.\"\n",
              "              style=\"display:none;\">\n",
              "        \n",
              "  <svg xmlns=\"http://www.w3.org/2000/svg\" height=\"24px\"viewBox=\"0 0 24 24\"\n",
              "       width=\"24px\">\n",
              "    <path d=\"M0 0h24v24H0V0z\" fill=\"none\"/>\n",
              "    <path d=\"M18.56 5.44l.94 2.06.94-2.06 2.06-.94-2.06-.94-.94-2.06-.94 2.06-2.06.94zm-11 1L8.5 8.5l.94-2.06 2.06-.94-2.06-.94L8.5 2.5l-.94 2.06-2.06.94zm10 10l.94 2.06.94-2.06 2.06-.94-2.06-.94-.94-2.06-.94 2.06-2.06.94z\"/><path d=\"M17.41 7.96l-1.37-1.37c-.4-.4-.92-.59-1.43-.59-.52 0-1.04.2-1.43.59L10.3 9.45l-7.72 7.72c-.78.78-.78 2.05 0 2.83L4 21.41c.39.39.9.59 1.41.59.51 0 1.02-.2 1.41-.59l7.78-7.78 2.81-2.81c.8-.78.8-2.07 0-2.86zM5.41 20L4 18.59l7.72-7.72 1.47 1.35L5.41 20z\"/>\n",
              "  </svg>\n",
              "      </button>\n",
              "      \n",
              "  <style>\n",
              "    .colab-df-container {\n",
              "      display:flex;\n",
              "      flex-wrap:wrap;\n",
              "      gap: 12px;\n",
              "    }\n",
              "\n",
              "    .colab-df-convert {\n",
              "      background-color: #E8F0FE;\n",
              "      border: none;\n",
              "      border-radius: 50%;\n",
              "      cursor: pointer;\n",
              "      display: none;\n",
              "      fill: #1967D2;\n",
              "      height: 32px;\n",
              "      padding: 0 0 0 0;\n",
              "      width: 32px;\n",
              "    }\n",
              "\n",
              "    .colab-df-convert:hover {\n",
              "      background-color: #E2EBFA;\n",
              "      box-shadow: 0px 1px 2px rgba(60, 64, 67, 0.3), 0px 1px 3px 1px rgba(60, 64, 67, 0.15);\n",
              "      fill: #174EA6;\n",
              "    }\n",
              "\n",
              "    [theme=dark] .colab-df-convert {\n",
              "      background-color: #3B4455;\n",
              "      fill: #D2E3FC;\n",
              "    }\n",
              "\n",
              "    [theme=dark] .colab-df-convert:hover {\n",
              "      background-color: #434B5C;\n",
              "      box-shadow: 0px 1px 3px 1px rgba(0, 0, 0, 0.15);\n",
              "      filter: drop-shadow(0px 1px 2px rgba(0, 0, 0, 0.3));\n",
              "      fill: #FFFFFF;\n",
              "    }\n",
              "  </style>\n",
              "\n",
              "      <script>\n",
              "        const buttonEl =\n",
              "          document.querySelector('#df-8b4e66c4-0ac0-48ab-a57a-9f5dc9c4dcb9 button.colab-df-convert');\n",
              "        buttonEl.style.display =\n",
              "          google.colab.kernel.accessAllowed ? 'block' : 'none';\n",
              "\n",
              "        async function convertToInteractive(key) {\n",
              "          const element = document.querySelector('#df-8b4e66c4-0ac0-48ab-a57a-9f5dc9c4dcb9');\n",
              "          const dataTable =\n",
              "            await google.colab.kernel.invokeFunction('convertToInteractive',\n",
              "                                                     [key], {});\n",
              "          if (!dataTable) return;\n",
              "\n",
              "          const docLinkHtml = 'Like what you see? Visit the ' +\n",
              "            '<a target=\"_blank\" href=https://colab.research.google.com/notebooks/data_table.ipynb>data table notebook</a>'\n",
              "            + ' to learn more about interactive tables.';\n",
              "          element.innerHTML = '';\n",
              "          dataTable['output_type'] = 'display_data';\n",
              "          await google.colab.output.renderOutput(dataTable, element);\n",
              "          const docLink = document.createElement('div');\n",
              "          docLink.innerHTML = docLinkHtml;\n",
              "          element.appendChild(docLink);\n",
              "        }\n",
              "      </script>\n",
              "    </div>\n",
              "  </div>\n",
              "  "
            ],
            "text/plain": [
              "   Age Attrition     BusinessTravel  DailyRate              Department  \\\n",
              "0   41       Yes      Travel_Rarely       1102                   Sales   \n",
              "1   49        No  Travel_Frequently        279  Research & Development   \n",
              "2   37       Yes      Travel_Rarely       1373  Research & Development   \n",
              "3   33        No  Travel_Frequently       1392  Research & Development   \n",
              "4   27        No      Travel_Rarely        591  Research & Development   \n",
              "\n",
              "   DistanceFromHome  Education EducationField  EmployeeCount  EmployeeNumber  \\\n",
              "0                 1          2  Life Sciences              1               1   \n",
              "1                 8          1  Life Sciences              1               2   \n",
              "2                 2          2          Other              1               4   \n",
              "3                 3          4  Life Sciences              1               5   \n",
              "4                 2          1        Medical              1               7   \n",
              "\n",
              "   ...  RelationshipSatisfaction StandardHours  StockOptionLevel  \\\n",
              "0  ...                         1            80                 0   \n",
              "1  ...                         4            80                 1   \n",
              "2  ...                         2            80                 0   \n",
              "3  ...                         3            80                 0   \n",
              "4  ...                         4            80                 1   \n",
              "\n",
              "   TotalWorkingYears  TrainingTimesLastYear WorkLifeBalance  YearsAtCompany  \\\n",
              "0                  8                      0               1               6   \n",
              "1                 10                      3               3              10   \n",
              "2                  7                      3               3               0   \n",
              "3                  8                      3               3               8   \n",
              "4                  6                      3               3               2   \n",
              "\n",
              "  YearsInCurrentRole  YearsSinceLastPromotion  YearsWithCurrManager  \n",
              "0                  4                        0                     5  \n",
              "1                  7                        1                     7  \n",
              "2                  0                        0                     0  \n",
              "3                  7                        3                     0  \n",
              "4                  2                        2                     2  \n",
              "\n",
              "[5 rows x 35 columns]"
            ]
          },
          "metadata": {},
          "execution_count": 5
        }
      ]
    },
    {
      "cell_type": "markdown",
      "source": [
        "## Converting string text into dummy variables\n",
        "\n",
        "In order to see correlation between the features, we have to be able to compare the values. As many of the features contain text as a value, it difficult to do this comparison. To combat this, we use dummy variable in there place. As all the features that contain text use a predefine value, we are able to use dummy in their place as we know what values are found in each feature."
      ],
      "metadata": {
        "id": "pQKjAbChBuWh"
      }
    },
    {
      "cell_type": "markdown",
      "source": [
        "### Dummy for features with only two options\n",
        "\n",
        "We are able to use an already existing function to convert the values of features \"Gender\", \"Attrition\", \"OverTime\" and \"Over18\" as these only contain values \"Male\" and \"Female\" for the \"Gender\" feature, and \"Yes\" and \"No\" for the others.\n",
        "\n",
        "Something to note is that this will change the name of the columns to that of the old name and the first value in the column (ex. \"Attrition\" --> \"Attrition_Yes\"). We change that at the end of this section."
      ],
      "metadata": {
        "id": "89y41KIaC5GG"
      }
    },
    {
      "cell_type": "code",
      "source": [
        "#Create dummy feature for the feature \"Attrition\" and then drop it\n",
        "employee_data_attrition_dummy = pd.get_dummies(employee_data, columns=['Attrition'],\n",
        "                                               drop_first=True)"
      ],
      "metadata": {
        "id": "fiFQnzJ_H2k3"
      },
      "execution_count": 18,
      "outputs": []
    },
    {
      "cell_type": "code",
      "source": [
        "#Create dummy feature for the feature \"Gender\" and then drop it\n",
        "employee_data_attrition_gender_dummy = pd.get_dummies(employee_data_attrition_dummy,\n",
        "                                                      columns=['Gender'], drop_first=True) "
      ],
      "metadata": {
        "id": "uJYlj0APJZvv"
      },
      "execution_count": 19,
      "outputs": []
    },
    {
      "cell_type": "code",
      "source": [
        "#Create dummy feature for the feature \"Over18\" and then drop it\n",
        "employee_data_attrition_gender_over_dummy = pd.get_dummies(employee_data_attrition_gender_dummy, \n",
        "                         columns=['Over18'], drop_first=True)"
      ],
      "metadata": {
        "id": "EyXD52yXD33-"
      },
      "execution_count": 20,
      "outputs": []
    },
    {
      "cell_type": "markdown",
      "source": [
        "Something to note is that the feature 'Over18' only contains one value ('Y') so the column will be dropped with no dummy feature taking its place. This isn't a problem as the feature would not have influenced our result."
      ],
      "metadata": {
        "id": "lxBDE17gIlzb"
      }
    },
    {
      "cell_type": "code",
      "source": [
        "#Create dummy feature for the feature \"OverTime\" and then drop it\n",
        "employee_data_attrition_gender_over_time_dummy = pd.get_dummies(employee_data_attrition_gender_over_dummy, \n",
        "                         columns=['OverTime'], drop_first=True)"
      ],
      "metadata": {
        "id": "3Uj2Zmt1D4Xo"
      },
      "execution_count": 21,
      "outputs": []
    },
    {
      "cell_type": "markdown",
      "source": [
        "All that is left is to rename the now columns to their prior names."
      ],
      "metadata": {
        "id": "FujxVbl7JxNl"
      }
    },
    {
      "cell_type": "code",
      "source": [
        "employee_data_attrition_gender_over_time_dummy.rename(columns={'Attrition_Yes': 'Attrition',\n",
        "                                                               'Gender_Male': 'Gender',\n",
        "                                                               'OverTime_Yes': 'OverTime'},\n",
        "                                                      inplace = True)"
      ],
      "metadata": {
        "id": "cc-CpGlaH2Zn"
      },
      "execution_count": 22,
      "outputs": []
    },
    {
      "cell_type": "markdown",
      "source": [
        "This is a tool tip for understanding the values:\n",
        "\n",
        ">\"Attrition\": 1 = Yes, 0 = No\n",
        ">\n",
        ">\"Gender\": 1 = Male, 0 = Female\n",
        ">\n",
        ">\"OverTime_Yes\" = 1 = Yes, 0 = No"
      ],
      "metadata": {
        "id": "Z9CjHKPzKgc7"
      }
    },
    {
      "cell_type": "markdown",
      "source": [
        "### Dummy for features with more then two options\n",
        "\n",
        "As some features have more then two unique values in them, we cannot use the previous method. Instead, we will have change them manually. Each of the changes will occur in a new dataframe."
      ],
      "metadata": {
        "id": "7XIVXFcqHPqK"
      }
    },
    {
      "cell_type": "code",
      "source": [
        "#Create a new dataframe from the previous dataframe \n",
        "employee_data_attrition_gender_over_time_business_dummy = employee_data_attrition_gender_over_time_dummy\n",
        "#Create the dummy values from the available values\n",
        "employee_data_attrition_gender_over_time_business_dummy.loc[\n",
        "                employee_data_attrition_gender_over_time_business_dummy['BusinessTravel'] \n",
        "                == 'Travel_Rarely', 'BusinessTravel'] = 3\n",
        "employee_data_attrition_gender_over_time_business_dummy.loc[\n",
        "                employee_data_attrition_gender_over_time_business_dummy['BusinessTravel'] \n",
        "                == 'Travel_Frequently', 'BusinessTravel'] = 2\n",
        "employee_data_attrition_gender_over_time_business_dummy.loc[\n",
        "                employee_data_attrition_gender_over_time_business_dummy['BusinessTravel'] \n",
        "                == 'Non-Travel', 'BusinessTravel'] = 1"
      ],
      "metadata": {
        "id": "BT4GzlqiJxKN"
      },
      "execution_count": 51,
      "outputs": []
    },
    {
      "cell_type": "code",
      "source": [
        "#Create a new dataframe from the previous dataframe \n",
        "employee_data_attrition_gender_over_time_business_dep_dummy = employee_data_attrition_gender_over_time_business_dummy\n",
        "#Create the dummy values from the available values\n",
        "employee_data_attrition_gender_over_time_business_dep_dummy.loc[\n",
        "                employee_data_attrition_gender_over_time_business_dep_dummy['Department'] \n",
        "                == 'Sales', 'Department'] = 3\n",
        "employee_data_attrition_gender_over_time_business_dep_dummy.loc[\n",
        "                employee_data_attrition_gender_over_time_business_dep_dummy['Department'] \n",
        "                == 'Research & Development', 'Department'] = 2\n",
        "employee_data_attrition_gender_over_time_business_dep_dummy.loc[\n",
        "                employee_data_attrition_gender_over_time_business_dep_dummy['Department'] \n",
        "                == 'Human Resources', 'Department'] = 1"
      ],
      "metadata": {
        "id": "h0wGgy5B7e4t"
      },
      "execution_count": 52,
      "outputs": []
    },
    {
      "cell_type": "code",
      "source": [
        "#Create a new dataframe from the previous dataframe \n",
        "employee_data_attrition_gender_over_time_business_dep_educ_dummy = employee_data_attrition_gender_over_time_business_dep_dummy\n",
        "#Create the dummy values from the available values\n",
        "employee_data_attrition_gender_over_time_business_dep_educ_dummy.loc[\n",
        "                employee_data_attrition_gender_over_time_business_dep_educ_dummy['EducationField'] \n",
        "                == 'Technical Degree', 'EducationField'] = 6\n",
        "employee_data_attrition_gender_over_time_business_dep_educ_dummy.loc[\n",
        "                employee_data_attrition_gender_over_time_business_dep_educ_dummy['EducationField'] \n",
        "                == 'Other', 'EducationField'] = 5\n",
        "employee_data_attrition_gender_over_time_business_dep_educ_dummy.loc[\n",
        "                employee_data_attrition_gender_over_time_business_dep_educ_dummy['EducationField'] \n",
        "                == 'Medical', 'EducationField'] = 4\n",
        "employee_data_attrition_gender_over_time_business_dep_educ_dummy.loc[\n",
        "                employee_data_attrition_gender_over_time_business_dep_educ_dummy['EducationField'] \n",
        "                == 'Marketing', 'EducationField'] = 3\n",
        "employee_data_attrition_gender_over_time_business_dep_educ_dummy.loc[\n",
        "                employee_data_attrition_gender_over_time_business_dep_educ_dummy['EducationField'] \n",
        "                == 'Life Sciences', 'EducationField'] = 2\n",
        "employee_data_attrition_gender_over_time_business_dep_educ_dummy.loc[\n",
        "                employee_data_attrition_gender_over_time_business_dep_educ_dummy['EducationField'] \n",
        "                == 'Human Resources', 'EducationField'] = 1"
      ],
      "metadata": {
        "id": "3wD8v0cH8fEE"
      },
      "execution_count": 53,
      "outputs": []
    },
    {
      "cell_type": "code",
      "source": [
        "#Create a new dataframe from the previous dataframe \n",
        "employee_data_attrition_gender_over_time_business_dep_educ_job_dummy = employee_data_attrition_gender_over_time_business_dep_educ_dummy\n",
        "#Create the dummy values from the available values\n",
        "employee_data_attrition_gender_over_time_business_dep_educ_job_dummy.loc[\n",
        "                employee_data_attrition_gender_over_time_business_dep_educ_job_dummy['JobRole'] \n",
        "                == 'Sales Representative', 'JobRole'] = 9\n",
        "employee_data_attrition_gender_over_time_business_dep_educ_job_dummy.loc[\n",
        "                employee_data_attrition_gender_over_time_business_dep_educ_job_dummy['JobRole'] \n",
        "                == 'Sales Executive', 'JobRole'] = 8\n",
        "employee_data_attrition_gender_over_time_business_dep_educ_job_dummy.loc[\n",
        "                employee_data_attrition_gender_over_time_business_dep_educ_job_dummy['JobRole'] \n",
        "                == 'Research Scientist', 'JobRole'] = 7\n",
        "employee_data_attrition_gender_over_time_business_dep_educ_job_dummy.loc[\n",
        "                employee_data_attrition_gender_over_time_business_dep_educ_job_dummy['JobRole'] \n",
        "                == 'Research Director', 'JobRole'] = 6\n",
        "employee_data_attrition_gender_over_time_business_dep_educ_job_dummy.loc[\n",
        "                employee_data_attrition_gender_over_time_business_dep_educ_job_dummy['JobRole'] \n",
        "                == 'Manufacturing Director', 'JobRole'] = 5\n",
        "employee_data_attrition_gender_over_time_business_dep_educ_job_dummy.loc[\n",
        "                employee_data_attrition_gender_over_time_business_dep_educ_job_dummy['JobRole'] \n",
        "                == 'Manager', 'JobRole'] = 4\n",
        "employee_data_attrition_gender_over_time_business_dep_educ_job_dummy.loc[\n",
        "                employee_data_attrition_gender_over_time_business_dep_educ_job_dummy['JobRole'] \n",
        "                == 'Laboratory Technician', 'JobRole'] = 3\n",
        "employee_data_attrition_gender_over_time_business_dep_educ_job_dummy.loc[\n",
        "                employee_data_attrition_gender_over_time_business_dep_educ_job_dummy['JobRole'] \n",
        "                == 'Human Resources', 'JobRole'] = 2\n",
        "employee_data_attrition_gender_over_time_business_dep_educ_job_dummy.loc[\n",
        "                employee_data_attrition_gender_over_time_business_dep_educ_job_dummy['JobRole'] \n",
        "                == 'Healthcare Representative', 'JobRole'] = 1"
      ],
      "metadata": {
        "id": "vcav-FNF93mq"
      },
      "execution_count": 54,
      "outputs": []
    },
    {
      "cell_type": "code",
      "source": [
        "#Create a new dataframe from the previous dataframe \n",
        "employee_data_attrition_gender_over_time_business_dep_educ_job_rel_dummy = employee_data_attrition_gender_over_time_business_dep_educ_job_dummy\n",
        "#Create the dummy values from the available values\n",
        "employee_data_attrition_gender_over_time_business_dep_educ_job_rel_dummy.loc[\n",
        "                employee_data_attrition_gender_over_time_business_dep_educ_job_rel_dummy['MaritalStatus'] \n",
        "                == 'Single', 'MaritalStatus'] = 3\n",
        "employee_data_attrition_gender_over_time_business_dep_educ_job_rel_dummy.loc[\n",
        "                employee_data_attrition_gender_over_time_business_dep_educ_job_rel_dummy['MaritalStatus'] \n",
        "                == 'Married', 'MaritalStatus'] = 2\n",
        "employee_data_attrition_gender_over_time_business_dep_educ_job_rel_dummy.loc[\n",
        "                employee_data_attrition_gender_over_time_business_dep_educ_job_rel_dummy['MaritalStatus'] \n",
        "                == 'Divorced', 'MaritalStatus'] = 1"
      ],
      "metadata": {
        "id": "KtNpGsceD51r"
      },
      "execution_count": 55,
      "outputs": []
    },
    {
      "cell_type": "code",
      "source": [
        "#rename the last dataframe\n",
        "employee_data_dummies = employee_data_attrition_gender_over_time_business_dep_educ_job_rel_dummy"
      ],
      "metadata": {
        "id": "ip4Plqg4XMNZ"
      },
      "execution_count": 56,
      "outputs": []
    },
    {
      "cell_type": "markdown",
      "source": [
        "These changes have not changed the dtype of the features so we will have to change it manually. Not doing this would mean a correlation could not be established."
      ],
      "metadata": {
        "id": "AHNTfGWITzoM"
      }
    },
    {
      "cell_type": "code",
      "source": [
        "employee_data_dummies = employee_data_dummies.astype({'Department' : int})\n",
        "employee_data_dummies = employee_data_dummies.astype({'BusinessTravel' : int})\n",
        "employee_data_dummies = employee_data_dummies.astype({'EducationField' : int})\n",
        "employee_data_dummies = employee_data_dummies.astype({'JobRole' : int})\n",
        "employee_data_dummies = employee_data_dummies.astype({'MaritalStatus' : int})"
      ],
      "metadata": {
        "id": "E54LBhXuRXEz"
      },
      "execution_count": 61,
      "outputs": []
    },
    {
      "cell_type": "markdown",
      "source": [
        "## Removing unnecessary features\n",
        "\n",
        "As many of the features in the dataframe are linked others, it will require us to remove a number of them to reduce the redundance and avoid using the same variables twice in our prediction model."
      ],
      "metadata": {
        "id": "rjoCDpVdUmDb"
      }
    }
  ]
}